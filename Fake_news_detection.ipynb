{
 "cells": [
  {
   "cell_type": "code",
   "execution_count": 4,
   "id": "de9e61ee-f5f9-4be4-a881-9050258c54d6",
   "metadata": {
    "scrolled": true
   },
   "outputs": [
    {
     "name": "stdout",
     "output_type": "stream",
     "text": [
      "Accuracy: 0.5322265625\n",
      "\n",
      "Confusion Matrix:\n",
      " [[422 466]\n",
      " [492 668]]\n",
      "\n",
      "Classification Report:\n",
      "               precision    recall  f1-score   support\n",
      "\n",
      "       False       0.46      0.48      0.47       888\n",
      "        True       0.59      0.58      0.58      1160\n",
      "\n",
      "    accuracy                           0.53      2048\n",
      "   macro avg       0.53      0.53      0.53      2048\n",
      "weighted avg       0.53      0.53      0.53      2048\n",
      "\n"
     ]
    },
    {
     "name": "stdin",
     "output_type": "stream",
     "text": [
      "\n",
      "Enter a news headline (or type 'exit' to quit):  Jim Dunnam has not lived in the district he represents for years now.\n"
     ]
    },
    {
     "name": "stdout",
     "output_type": "stream",
     "text": [
      "Prediction: False\n"
     ]
    },
    {
     "name": "stdin",
     "output_type": "stream",
     "text": [
      "\n",
      "Enter a news headline (or type 'exit' to quit):  Health care reform legislation is likely to mandate free sex change surgeries.\n"
     ]
    },
    {
     "name": "stdout",
     "output_type": "stream",
     "text": [
      "Prediction: False\n"
     ]
    },
    {
     "name": "stdin",
     "output_type": "stream",
     "text": [
      "\n",
      "Enter a news headline (or type 'exit' to quit):  When did the decline of coal start? It started when natural gas took off that started to begin in (President George W.) Bushs administration.\n"
     ]
    },
    {
     "name": "stdout",
     "output_type": "stream",
     "text": [
      "Prediction: True\n"
     ]
    },
    {
     "name": "stdin",
     "output_type": "stream",
     "text": [
      "\n",
      "Enter a news headline (or type 'exit' to quit):  exit\n"
     ]
    }
   ],
   "source": [
    "import pandas as pd\n",
    "from sklearn.model_selection import train_test_split\n",
    "from sklearn.feature_extraction.text import TfidfVectorizer\n",
    "from sklearn.linear_model import PassiveAggressiveClassifier\n",
    "from sklearn.metrics import accuracy_score, confusion_matrix, classification_report\n",
    "\n",
    "df = pd.read_csv(\"Downloads/Compressed/Fake_News_Detection-master/Fake_News_Detection-master/train.csv\")  \n",
    "df = df.dropna()\n",
    "\n",
    "X = df['Statement']\n",
    "y = df['Label']\n",
    "\n",
    "X_train, X_test, y_train, y_test = train_test_split(X, y, test_size=0.2, random_state=42)\n",
    "\n",
    "vectorizer = TfidfVectorizer(stop_words='english', max_df=0.7)\n",
    "tfidf_train = vectorizer.fit_transform(X_train)\n",
    "tfidf_test = vectorizer.transform(X_test)\n",
    "\n",
    "model = PassiveAggressiveClassifier(max_iter=1000)\n",
    "model.fit(tfidf_train, y_train)\n",
    "\n",
    "y_pred = model.predict(tfidf_test)\n",
    "\n",
    "print(\"Accuracy:\", accuracy_score(y_test, y_pred))\n",
    "print(\"\\nConfusion Matrix:\\n\", confusion_matrix(y_test, y_pred))\n",
    "print(\"\\nClassification Report:\\n\", classification_report(y_test, y_pred))\n",
    "\n",
    "while True:\n",
    "    text_input = input(\"\\nEnter a news headline (or type 'exit' to quit): \")\n",
    "    if text_input.lower() == \"exit\":\n",
    "        break\n",
    "    text_vec = vectorizer.transform([text_input])\n",
    "    prediction = model.predict(text_vec)[0]\n",
    "    print(f\"Prediction: {prediction}\")\n"
   ]
  },
  {
   "cell_type": "code",
   "execution_count": null,
   "id": "d8c6571e-73fe-4194-aa5a-bcdfb2eac57c",
   "metadata": {},
   "outputs": [],
   "source": []
  }
 ],
 "metadata": {
  "kernelspec": {
   "display_name": "Python 3 (ipykernel)",
   "language": "python",
   "name": "python3"
  },
  "language_info": {
   "codemirror_mode": {
    "name": "ipython",
    "version": 3
   },
   "file_extension": ".py",
   "mimetype": "text/x-python",
   "name": "python",
   "nbconvert_exporter": "python",
   "pygments_lexer": "ipython3",
   "version": "3.12.0"
  }
 },
 "nbformat": 4,
 "nbformat_minor": 5
}
